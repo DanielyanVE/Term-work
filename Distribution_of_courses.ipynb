{
 "cells": [
  {
   "cell_type": "code",
   "execution_count": 1,
   "metadata": {
    "collapsed": true
   },
   "outputs": [],
   "source": [
    "import itertools\n",
    "import numpy as np\n",
    "import random\n",
    "from random import sample\n",
    "from random import choices\n",
    "def findsubsets(S,m):\n",
    "    return set(itertools.combinations(S, m))"
   ]
  },
  {
   "cell_type": "code",
   "execution_count": 2,
   "metadata": {
    "collapsed": true
   },
   "outputs": [],
   "source": [
    "def preferences_of_courses(n_of_c, n_of_s): #случайно генерирует предпочтения курсов\n",
    "    preferences = list()\n",
    "    for i in range(n_of_c):\n",
    "        preferences.append(np.random.choice(np.arange(n_of_s), size = n_of_s, replace= False))\n",
    "    return preferences"
   ]
  },
  {
   "cell_type": "code",
   "execution_count": 3,
   "metadata": {
    "collapsed": true
   },
   "outputs": [],
   "source": [
    "def allsubsets(S):\n",
    "    a = []\n",
    "    for m in range(2,len(S)):\n",
    "        a.extend(findsubsets(S,m))\n",
    "    return a"
   ]
  },
  {
   "cell_type": "code",
   "execution_count": 4,
   "metadata": {
    "collapsed": true
   },
   "outputs": [],
   "source": [
    "def feasibility(x, b, credits): #проверяет допустим ли набор курсов\n",
    "    price = 0\n",
    "    if x is not None:\n",
    "        for i in x:\n",
    "            price = price + credits[i]\n",
    "        return price == b\n",
    "    else: return False"
   ]
  },
  {
   "cell_type": "code",
   "execution_count": 5,
   "metadata": {
    "collapsed": true
   },
   "outputs": [],
   "source": [
    "def feasible_subsets(courses, b):\n",
    "    a = allsubsets(courses)\n",
    "    feasible = list()\n",
    "    for i in a:\n",
    "        if feasibility(i,b,credits):\n",
    "            feasible.append(i)\n",
    "    return feasible"
   ]
  },
  {
   "cell_type": "code",
   "execution_count": 6,
   "metadata": {
    "collapsed": true
   },
   "outputs": [],
   "source": [
    "def preferences_of_students(n_of_s, feas_sub): #список списков кортежей\n",
    "    preferences = list()\n",
    "    for i in range(n_of_s):\n",
    "        preferences.append(sample(feas_sub,len(feas_sub)))\n",
    "    return preferences"
   ]
  },
  {
   "cell_type": "code",
   "execution_count": 7,
   "metadata": {
    "collapsed": true
   },
   "outputs": [],
   "source": [
    "def feasible_after(a, agreed): #ищет допустимые курсы при условии, что часть уже приняла\n",
    "    #a - предпочтения студента (список кортежей), agreed - принявшие курсы(список)\n",
    "    a = a.copy()\n",
    "    output = []\n",
    "    if agreed is not None:\n",
    "        agreed = agreed.copy()\n",
    "        agreed = set(agreed)\n",
    "        for i in a:\n",
    "            i = set(i)\n",
    "            if i.intersection(agreed) == agreed and i != agreed:\n",
    "                output.append(tuple(i - agreed))\n",
    "        return output\n",
    "    else: return a"
   ]
  },
  {
   "cell_type": "code",
   "execution_count": 8,
   "metadata": {
    "collapsed": true
   },
   "outputs": [],
   "source": [
    "def feasible_after_disagreement(a, disagred): #ищет допустиые наборы при условии, что часть отвергла\n",
    "    a = a.copy()\n",
    "    output = list()\n",
    "    if disagred is not None: #если множество не пусто\n",
    "        disagred = disagred.copy()\n",
    "        disagred = set(disagred)  \n",
    "        for i in a:\n",
    "            i = set(i)\n",
    "            if i.intersection(disagred) == set():\n",
    "                output.append(tuple(i))\n",
    "        return output\n",
    "    else:\n",
    "        return a"
   ]
  },
  {
   "cell_type": "code",
   "execution_count": 9,
   "metadata": {
    "collapsed": true
   },
   "outputs": [],
   "source": [
    "def search_for_worst(admitted, candidate, preferences): #выдает худшего студента среди отправленных\n",
    "    #preferences - массив\n",
    "    preferences = np.copy(preferences)\n",
    "    preferences = list(preferences)\n",
    "    worst = admitted[0]\n",
    "    for i in admitted:\n",
    "        if preferences.index(i) > preferences.index(worst):\n",
    "            worst = i\n",
    "    if preferences.index(worst) > preferences.index(candidate):\n",
    "        return worst\n",
    "    else: return candidate"
   ]
  },
  {
   "cell_type": "code",
   "execution_count": 10,
   "metadata": {
    "collapsed": true
   },
   "outputs": [],
   "source": [
    "#на вход - список курсов, список весов, список студентов, список квот курсов,\n",
    "#массивы предпочтений студентов и курсов\n",
    "def algorithm(courses, credits, students, quota, b, pref_c, pref_s):\n",
    "    quota = np.copy(quota)\n",
    "    students_iter = itertools.cycle(students)\n",
    "    iterations = 0\n",
    "    pref_s_start = pref_s.copy() #предпочтения студентов до модификаций\n",
    "    pref_s = pref_s.copy()\n",
    "    disagred_s = np.empty(shape = len(students),dtype= list) #список курсов, которые отказали студенту\n",
    "    admitted_students = np.empty(shape = len(courses),dtype = list) #списки принятых студентов\n",
    "    admitted_courses = np.empty(shape = len(students), dtype = list)#списки принятых курсов\n",
    "    for student in students_iter:\n",
    "        #print('student', student)\n",
    "        if len(pref_s[student]) != 0: #проверяем не пусты ли предпочтения\n",
    "            iterations = 0 # если не пусты запускаем процесс заново\n",
    "            best = pref_s[student][0] #лучший набор студента\n",
    "            for i in best:\n",
    "                if admitted_students[i] != None: #есть пренятые студенты \n",
    "                    if quota[i] - len(admitted_students[i]) != 0: #проверяем выбрана ли квота курса\n",
    "                        admitted_students[i].append(student) #если не выбрана - просто добавляем студента\n",
    "                        if admitted_courses[student] != None: \n",
    "                            admitted_courses[student].append(i)\n",
    "                        else:\n",
    "                            admitted_courses[student] = [i]\n",
    "                    else: #квота выбрана\n",
    "                        worst = search_for_worst(admitted_students[i], student, pref_c[i])#ищем худшего\n",
    "                        if worst != student: #если студент не худший\n",
    "                            admitted_students[i].remove(worst) #удаляем худшего из принятых студентов\n",
    "                            admitted_courses[worst].remove(i) #удаляем курс у худшего студента\n",
    "                            admitted_students[i].append(student)#добавляем нашего студента в принятые\n",
    "                            if admitted_courses[student] != None: \n",
    "                                admitted_courses[student].append(i) #добавляем курс нашему студенту\n",
    "                            else: admitted_courses[student] = [i] #добавляем курс нашему студенту\n",
    "                            if disagred_s[worst] != None: #добавляем худшему отказавший курс\n",
    "                                disagred_s[worst].append(i)\n",
    "                            else:\n",
    "                                disagred_s[worst] = [i]\n",
    "                        else: #если студент худший\n",
    "                            if disagred_s[student] != None:\n",
    "                                disagred_s[student].append(i)\n",
    "                            else:\n",
    "                                disagred_s[student] = [i]\n",
    "                else:#нет принятых студентов, добавляем нашего\n",
    "                    admitted_students[i] = [student]\n",
    "                    if admitted_courses[student] != None:\n",
    "                        admitted_courses[student].append(i)\n",
    "                    else:\n",
    "                        admitted_courses[student] = [i]\n",
    "        else:# предпочтения пусты\n",
    "            iterations += 1        \n",
    "        pref_s[student] = feasible_after(pref_s_start[student], admitted_courses[student])\n",
    "        pref_s[student] = feasible_after_disagreement(pref_s[student], disagred_s[student])\n",
    "        if len(pref_s[student]) > 0: iterations = 0\n",
    "        if len(pref_s[student]) == 0 and not feasibility(admitted_courses[student], b, credits):\n",
    "            min_quota = disagred_s[student][0]\n",
    "            for dis in disagred_s[student]:\n",
    "                if quota[dis] < quota[min_quota]:\n",
    "                    min_quota = dis\n",
    "            quota[min_quota] += 1\n",
    "            return algorithm(courses, credits, students, quota, b, pref_c, pref_s_start)\n",
    "        if iterations == len(students):\n",
    "            return (admitted_students, admitted_courses, quota)\n",
    "#на выход - массив принятых студентов (относительно курсов), массив принятых курсов(относительно студентов, вектор квот "
   ]
  }
 ],
 "metadata": {
  "kernelspec": {
   "display_name": "Python 3",
   "language": "python",
   "name": "python3"
  },
  "language_info": {
   "codemirror_mode": {
    "name": "ipython",
    "version": 3
   },
   "file_extension": ".py",
   "mimetype": "text/x-python",
   "name": "python",
   "nbconvert_exporter": "python",
   "pygments_lexer": "ipython3",
   "version": "3.6.3"
  }
 },
 "nbformat": 4,
 "nbformat_minor": 2
}
